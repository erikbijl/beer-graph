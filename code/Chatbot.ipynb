{
 "cells": [
  {
   "cell_type": "code",
   "execution_count": 1,
   "id": "1b764083-3ae6-4a3c-944a-ed179bd60764",
   "metadata": {},
   "outputs": [],
   "source": [
    "import pandas as pd\n",
    "import os\n",
    "from dotenv import load_dotenv\n",
    "from neo4j import GraphDatabase\n",
    "\n",
    "from langchain_openai import OpenAIEmbeddings\n",
    "from langchain.chat_models import ChatOpenAI\n",
    "from langchain.prompts import PromptTemplate\n",
    "import gradio as gr\n",
    "import time"
   ]
  },
  {
   "cell_type": "markdown",
   "id": "ef8d61de-0ea1-42a3-b630-63cc8d7e933f",
   "metadata": {},
   "source": [
    "## Setup Connection to Neo4j"
   ]
  },
  {
   "cell_type": "code",
   "execution_count": 2,
   "id": "edcb620c-ef9e-486b-a746-27ea1b5f3a0a",
   "metadata": {},
   "outputs": [],
   "source": [
    "if os.path.exists('credentials.env'):\n",
    "    load_dotenv('credentials.env', override=True)\n",
    "\n",
    "    # Neo4j\n",
    "    uri = os.getenv('NEO4J_URI')\n",
    "    username = os.getenv('NEO4J_USERNAME')\n",
    "    password = os.getenv('NEO4J_PASSWORD')\n",
    "    database = os.getenv('NEO4J_DATABASE')\n",
    "\n",
    "    # AI\n",
    "    OPENAI_API_KEY = os.getenv('OPENAI_API_KEY')\n",
    "    os.environ['OPENAI_API_KEY']=OPENAI_API_KEY\n",
    "else:\n",
    "    print(\"File 'credentials.env' not found.\")"
   ]
  },
  {
   "cell_type": "code",
   "execution_count": 3,
   "id": "167b92e0-322a-487c-be74-94c4e638ae78",
   "metadata": {},
   "outputs": [],
   "source": [
    "class App:\n",
    "    def __init__(self, uri, user, password, database=None):\n",
    "        self.driver = GraphDatabase.driver(uri, auth=(user, password), database=database)\n",
    "        self.database = database\n",
    "\n",
    "    def close(self):\n",
    "        self.driver.close()\n",
    "\n",
    "    def query(self, query):\n",
    "        return self.driver.execute_query(query)\n",
    "\n",
    "    def query_params(self, query, parameters):\n",
    "        return self.driver.execute_query(query, parameters_=parameters)\n",
    "\n",
    "    def count_nodes_in_db(self):\n",
    "        query = \"MATCH (n) RETURN COUNT(n)\"\n",
    "        result = self.query(query)\n",
    "        (key, value) = result.records[0].items()[0]\n",
    "        return value\n",
    "        \n",
    "    def count_nodes_with_label_in_db(self, label):\n",
    "        query = f\"MATCH (n:{label}) RETURN COUNT(n)\"\n",
    "        result = self.query(query)\n",
    "        (key, value) = result.records[0].items()[0]\n",
    "        return value\n",
    "    \n",
    "    def remove_nodes_relationships(self):\n",
    "        query =\"\"\"\n",
    "            CALL apoc.periodic.iterate(\n",
    "                \"MATCH (c) RETURN c\",\n",
    "                \"WITH c DETACH DELETE c\",\n",
    "                {batchSize: 1000}\n",
    "            )\n",
    "        \"\"\"\n",
    "        result = self.query(query)\n",
    "\n",
    "    def remove_all_constraints(self):\n",
    "        query =\"\"\"\n",
    "            CALL apoc.schema.assert({}, {})\n",
    "        \"\"\"\n",
    "        result = self.query(query)"
   ]
  },
  {
   "cell_type": "code",
   "execution_count": 4,
   "id": "718bd7be-50b1-47c3-a249-9d1d71e3e1b1",
   "metadata": {},
   "outputs": [],
   "source": [
    "app = App(uri, username, password, database)"
   ]
  },
  {
   "cell_type": "code",
   "execution_count": 5,
   "id": "14758c3b-d956-4d3a-92fb-07766e9ade9f",
   "metadata": {},
   "outputs": [
    {
     "data": {
      "text/plain": [
       "5951"
      ]
     },
     "execution_count": 5,
     "metadata": {},
     "output_type": "execute_result"
    }
   ],
   "source": [
    "app.count_nodes_in_db()"
   ]
  },
  {
   "cell_type": "markdown",
   "id": "b31f7107-6fb2-4cd3-8b39-d420b96cd59a",
   "metadata": {},
   "source": [
    "### Create Vector Index"
   ]
  },
  {
   "cell_type": "code",
   "execution_count": 6,
   "id": "3ac8b08e-0f57-4bd4-a3a5-86dfc5382cf6",
   "metadata": {},
   "outputs": [],
   "source": [
    "query = \"\"\"\n",
    "    CALL apoc.periodic.iterate(\n",
    "        \"MATCH (b:Beer) RETURN b\",\n",
    "        \"WITH b CALL db.create.setNodeVectorProperty(b, 'embedding', b.embedding)\",\n",
    "        {batchSize: 1000}\n",
    "    )\n",
    "\"\"\""
   ]
  },
  {
   "cell_type": "code",
   "execution_count": 7,
   "id": "b3ec8a55-9682-46b8-af50-4f40336565ba",
   "metadata": {},
   "outputs": [
    {
     "data": {
      "text/plain": [
       "EagerResult(records=[<Record batches=3 total=2061 timeTaken=0 committedOperations=2061 failedOperations=0 failedBatches=0 retries=0 errorMessages={} batch={'total': 3, 'errors': {}, 'committed': 3, 'failed': 0} operations={'total': 2061, 'errors': {}, 'committed': 2061, 'failed': 0} wasTerminated=False failedParams={} updateStatistics={'relationshipsDeleted': 0, 'relationshipsCreated': 0, 'nodesDeleted': 0, 'nodesCreated': 0, 'labelsRemoved': 0, 'labelsAdded': 0, 'propertiesSet': 0}>], summary=<neo4j._work.summary.ResultSummary object at 0x30d9ebbd0>, keys=['batches', 'total', 'timeTaken', 'committedOperations', 'failedOperations', 'failedBatches', 'retries', 'errorMessages', 'batch', 'operations', 'wasTerminated', 'failedParams', 'updateStatistics'])"
      ]
     },
     "execution_count": 7,
     "metadata": {},
     "output_type": "execute_result"
    }
   ],
   "source": [
    "app.query(query)"
   ]
  },
  {
   "cell_type": "code",
   "execution_count": 8,
   "id": "f41465eb-edb8-4f04-baff-31ef95122c42",
   "metadata": {},
   "outputs": [],
   "source": [
    "query = \"\"\"\n",
    "    CREATE VECTOR INDEX `description-embeddings` IF NOT EXISTS\n",
    "    FOR (b:Beer) ON (b.embedding)\n",
    "    OPTIONS {\n",
    "        indexConfig: {\n",
    "            `vector.dimensions`: 256,\n",
    "            `vector.similarity_function`: 'cosine'\n",
    "        } \n",
    "    }\n",
    "\"\"\""
   ]
  },
  {
   "cell_type": "code",
   "execution_count": 9,
   "id": "67a39f40-6d91-4219-8e29-3ecf8d818501",
   "metadata": {},
   "outputs": [
    {
     "data": {
      "text/plain": [
       "EagerResult(records=[], summary=<neo4j._work.summary.ResultSummary object at 0x30db0a0d0>, keys=[])"
      ]
     },
     "execution_count": 9,
     "metadata": {},
     "output_type": "execute_result"
    }
   ],
   "source": [
    "app.query(query)"
   ]
  },
  {
   "cell_type": "markdown",
   "id": "e50b2d69-ade7-47d9-9886-e0da33b6a36e",
   "metadata": {},
   "source": [
    "## Setup Chatbot"
   ]
  },
  {
   "cell_type": "code",
   "execution_count": 10,
   "id": "49cf6665-65d3-47dc-b83d-3ca3dd329b06",
   "metadata": {},
   "outputs": [],
   "source": [
    "embedding_model = 'text-embedding-3-small'"
   ]
  },
  {
   "cell_type": "code",
   "execution_count": 11,
   "id": "ea21f641-087a-4519-b41e-56138f572a8f",
   "metadata": {},
   "outputs": [],
   "source": [
    "embedding_model = OpenAIEmbeddings(\n",
    "    model=embedding_model,\n",
    "    openai_api_key=OPENAI_API_KEY,\n",
    "    dimensions=256\n",
    ")"
   ]
  },
  {
   "cell_type": "code",
   "execution_count": 12,
   "id": "169cb2cb-af3d-458d-9022-d1564835f9c3",
   "metadata": {},
   "outputs": [
    {
     "name": "stderr",
     "output_type": "stream",
     "text": [
      "/var/folders/l0/vn55w75s41703t1w811dtf080000gp/T/ipykernel_88081/3847375981.py:1: LangChainDeprecationWarning: The class `ChatOpenAI` was deprecated in LangChain 0.0.10 and will be removed in 1.0. An updated version of the class exists in the :class:`~langchain-openai package and should be used instead. To use it run `pip install -U :class:`~langchain-openai` and import as `from :class:`~langchain_openai import ChatOpenAI``.\n",
      "  llm = ChatOpenAI(temperature=0)\n"
     ]
    },
    {
     "data": {
      "text/plain": [
       "'gpt-3.5-turbo'"
      ]
     },
     "execution_count": 12,
     "metadata": {},
     "output_type": "execute_result"
    }
   ],
   "source": [
    "llm = ChatOpenAI(temperature=0)\n",
    "llm.model_name"
   ]
  },
  {
   "cell_type": "code",
   "execution_count": 13,
   "id": "db7de33e-e2a1-438f-98dc-0b4891e84b5f",
   "metadata": {},
   "outputs": [],
   "source": [
    "def get_context_vector_search(search_prompt):\n",
    "    query_vector = embedding_model.embed_query(search_prompt)\n",
    "    similarity_query = \"\"\" \n",
    "        CALL db.index.vector.queryNodes(\"description-embeddings\", 5, $query_vector) YIELD node, score\n",
    "        WITH node as beer, score ORDER BY score DESC\n",
    "        RETURN beer.name as beer, beer.description as description\n",
    "       \"\"\"\n",
    "    results = app.query_params(similarity_query, {'query_vector': query_vector})    \n",
    "    scored_beers = \"Scored Beers: \\n\\n\" + \"\\n\\n\".join([\"beer: \" + record['beer'] + \"\\n\" + \"description: \" + record['description'] for record in results.records])    \n",
    "    return scored_beers"
   ]
  },
  {
   "cell_type": "code",
   "execution_count": 14,
   "id": "29961c0d-3e55-420e-9225-ef373491f77b",
   "metadata": {},
   "outputs": [],
   "source": [
    "def generate_prompt_vector_search(search_prompt, scored_beers):\n",
    "    prompt_template = \"\"\"\n",
    "\n",
    "    You are a chatbot on beers. Your goal is to help people with questions on beers.  \n",
    "    A user will come to you with questions on any beers. Their questions must be answered based on the relevant beers found in the score.\n",
    "    If you make any recommendation. Please explain why based on the descriptions. \n",
    "\n",
    "    \n",
    "    The question is the following: \n",
    "    {search_prompt}\n",
    "    Always respond in the language in which the question was asked. So, do not respond in a different language.\n",
    "    \n",
    "    The beers found based on the question are the following: \n",
    "    {scored_beers}\n",
    "    \n",
    "    \"\"\"\n",
    "    prompt = PromptTemplate.from_template(prompt_template)\n",
    "    \n",
    "    theprompt = prompt.format_prompt(search_prompt=search_prompt, scored_beers=scored_beers)\n",
    "    return theprompt"
   ]
  },
  {
   "cell_type": "code",
   "execution_count": 15,
   "id": "f8c161b0-ef91-45ad-a495-0f24bee5dd4a",
   "metadata": {},
   "outputs": [],
   "source": [
    "def get_context_graphrag(search_prompt):\n",
    "    query_vector = embedding_model.embed_query(search_prompt)\n",
    "    \n",
    "    similarity_query = \"\"\" \n",
    "        CALL db.index.vector.queryNodes(\"description-embeddings\", 5, $query_vector) YIELD node, score\n",
    "        WITH node as beer, score ORDER BY score DESC\n",
    "        MATCH (beer)-[r:SIMILAR_BEER]-(b2:Beer)\n",
    "        WITH DISTINCT beer, r, b2\n",
    "        WHERE r.score > 0.95\n",
    "        WITH COLLECT(beer) as beers, COLLECT(b2) as similar_beers\n",
    "        WITH beers + similar_beers AS beers\n",
    "        UNWIND beers as beer\n",
    "        WITH DISTINCT beer\n",
    "        RETURN beer.name as beer, beer.description as description\n",
    "       \"\"\"\n",
    "    results = app.query_params(similarity_query, {'query_vector': query_vector})    \n",
    "    scored_beers = \"Scored Beers: \\n\\n\" + \"\\n\\n\".join([\"beer: \" + record['beer'] + \"\\n\" + \"description: \" + record['description'] for record in results.records])\n",
    "    \n",
    "    return scored_beers"
   ]
  },
  {
   "cell_type": "code",
   "execution_count": 16,
   "id": "0e6cbd06-7075-4edf-90e9-930ef7f699a0",
   "metadata": {},
   "outputs": [],
   "source": [
    "def generate_prompt_graphrag(search_prompt, scored_beers):\n",
    "    prompt_template = \"\"\"\n",
    "\n",
    "    You are a chatbot on beers. Your goal is to help people with questions on beers.  \n",
    "    A user will come to you with questions on any beers. Their questions must be answered based on the relevant beers found in the score.\n",
    "    If you make any recommendation. Please explain why based on the descriptions. \n",
    "\n",
    "    \n",
    "    The question is the following: \n",
    "    {search_prompt}\n",
    "    Always respond in the language in which the question was asked. So, do not respond in a different language.\n",
    "    \n",
    "    The beers found based on the question are the following: \n",
    "    {scored_beers}\n",
    "    \n",
    "    \"\"\"\n",
    "    prompt = PromptTemplate.from_template(prompt_template)\n",
    "    \n",
    "    theprompt = prompt.format_prompt(search_prompt=search_prompt, scored_beers=scored_beers)\n",
    "    return theprompt"
   ]
  },
  {
   "cell_type": "code",
   "execution_count": 17,
   "id": "4e0ea6a6-93d3-4ed5-8815-65c93683ed46",
   "metadata": {},
   "outputs": [
    {
     "name": "stdout",
     "output_type": "stream",
     "text": [
      "Scored Beers: \n",
      "\n",
      "beer: 44 Blonde\n",
      "description: 44 Blonde is a Belgian-style blonde ale that is brewed with a combination of Pilsner malt, wheat, and a touch of aromatic hops. This beer has a light golden color with a slightly hazy appearance and a fluffy white head. It offers a balanced flavor profile with notes of citrus, floral hops, and a subtle sweetness from the malt. The taste is crisp and refreshing, with a medium body and a moderate level of carbonation. Overall, 44 Blonde is a smooth and easy-drinking beer that is perfect for those looking for a classic Belgian ale experience.\n",
      "\n",
      "beer: Ultra Blonde\n",
      "description: Ultra Blonde is a Belgian-style blonde ale that is brewed with a combination of Pilsner malt, wheat, and a touch of aromatic hops. This beer is known for its light and refreshing character, with a crisp and clean taste. It has a pale golden color and a subtle fruity aroma with hints of citrus and spice. The flavor profile is balanced, offering a delicate sweetness from the malt with a gentle bitterness from the hops. Ultra Blonde has a medium body and a smooth, dry finish, making it a perfect choice for those looking for a sessionable and easy-drinking beer.\n",
      "\n",
      "beer: Blonde\n",
      "description: Blonde is a Belgian-style ale that is brewed with a combination of Pilsner malt, wheat, and a touch of aromatic hops. This beer is characterized by its light golden color, effervescent carbonation, and a crisp, refreshing taste. Blonde typically has a moderate level of bitterness with subtle fruity and spicy notes from the yeast. It has a clean and dry finish, making it a perfect choice for those looking for a smooth and easy-drinking beer.\n",
      "\n",
      "beer: Bink Blond\n",
      "description: Bink Blond is a Belgian Blonde Ale that boasts a golden hue with a slightly hazy appearance. This beer is brewed using a combination of Pilsner malt, aromatic malt, and a touch of wheat, which gives it a smooth and well-rounded body. The use of traditional Belgian yeast imparts fruity esters and a subtle spiciness to the aroma and flavor profile. Bink Blond offers a balanced taste with notes of citrus, pear, and a hint of clove, finishing with a gentle bitterness that leaves a refreshing and dry sensation on the palate. This beer is medium-bodied with moderate carbonation, making it a delightful choice for those seeking a classic Belgian ale experience.\n",
      "\n",
      "beer: Angélus Blonde\n",
      "description: Angélus Blonde is a Belgian-style blonde ale brewed with a blend of Pilsner malt, wheat, and aromatic hops. This beer is characterized by its golden hue and a moderate alcohol content. It offers a balanced flavor profile with notes of citrus, spice, and a subtle sweetness from the malt. The beer has a crisp and refreshing taste, with a medium body and a smooth finish. Angélus Blonde is a versatile beer that pairs well with a variety of dishes, making it a popular choice among beer enthusiasts.\n"
     ]
    },
    {
     "name": "stderr",
     "output_type": "stream",
     "text": [
      "/var/folders/l0/vn55w75s41703t1w811dtf080000gp/T/ipykernel_88081/1928929303.py:6: LangChainDeprecationWarning: The method `BaseChatModel.__call__` was deprecated in langchain-core 0.1.7 and will be removed in 1.0. Use :meth:`~invoke` instead.\n",
      "  llm(theprompt.to_messages()).pretty_print()\n"
     ]
    },
    {
     "name": "stdout",
     "output_type": "stream",
     "text": [
      "==================================\u001b[1m Ai Message \u001b[0m==================================\n",
      "\n",
      "Based on your preference for a very fresh blond beer, I would recommend the Ultra Blonde. This beer is known for its light and refreshing character, with a crisp and clean taste. It has a subtle fruity aroma with hints of citrus and spice, offering a delicate sweetness from the malt balanced with a gentle bitterness from the hops. The smooth, dry finish of Ultra Blonde makes it a perfect choice for those looking for a sessionable and easy-drinking beer that is sure to satisfy your craving for a fresh blond beer experience.\n"
     ]
    }
   ],
   "source": [
    "search_prompt = 'I like a very fresh blond beer. Can you recommend me any?'\n",
    "\n",
    "scored_beers = get_context_vector_search(search_prompt)\n",
    "print(scored_beers)\n",
    "theprompt = generate_prompt_vector_search(search_prompt, scored_beers)\n",
    "llm(theprompt.to_messages()).pretty_print()"
   ]
  },
  {
   "cell_type": "code",
   "execution_count": 18,
   "id": "9ffc7044-7cd0-4196-b93e-274d66879cfe",
   "metadata": {},
   "outputs": [
    {
     "name": "stdout",
     "output_type": "stream",
     "text": [
      "Scored Beers: \n",
      "\n",
      "beer: Belgian Pêches\n",
      "description: Belgian Pêches is a refreshing fruit beer brewed with ripe peaches. This beer falls under the category of fruit beer and is known for its sweet and juicy peach flavor that is balanced with a subtle tartness. The aroma is filled with the scent of fresh peaches, while the taste offers a delightful combination of fruity sweetness and a hint of sourness. The beer has a light to medium body with a smooth mouthfeel, making it a perfect choice for those who enjoy a fruity and easy-drinking beer.\n",
      "\n",
      "beer: La Poirette de Fontaine\n",
      "description: La Poirette de Fontaine is a Belgian-style fruit beer brewed with a blend of traditional and wild yeast strains. This beer is infused with locally sourced pears, which impart a subtle sweetness and delicate fruitiness to the brew. It has a light body and a slightly hazy appearance, with a golden hue reminiscent of ripe pears. The aroma is dominated by notes of fresh pear, along with hints of floral and spicy yeast characteristics. On the palate, La Poirette de Fontaine offers a refreshing and crisp taste, with a balanced blend of fruity sweetness and a touch of tartness. The finish is clean and dry, making it a perfect choice for those who enjoy a fruit-forward beer with a Belgian twist.\n",
      "\n",
      "beer: Grisette Fruits des Bois\n",
      "description: Grisette Fruits des Bois is a refreshing and fruity beer that falls under the category of a Belgian-style grisette. This beer is brewed with a blend of various forest fruits, such as raspberries, blackberries, and blueberries, which impart a vibrant and tart flavor profile. The beer has a light body with a moderate level of carbonation, making it easy to drink and perfect for warm weather. The fruity notes are balanced by a subtle malt sweetness, creating a harmonious and enjoyable drinking experience. Overall, Grisette Fruits des Bois is a delightful beer that offers a unique twist on the traditional grisette style.\n",
      "\n",
      "beer: Notre Passion\n",
      "description: Notre Passion is a Belgian-style fruit beer brewed with passion fruit. This beer is a refreshing and tropical delight, with a vibrant and tangy flavor profile. The passion fruit adds a juicy sweetness that balances well with the beer's underlying maltiness. It has a light to medium body with a moderate level of carbonation, making it easy to drink. The aroma is filled with tropical fruit notes, while the taste offers a perfect blend of sweet and tart flavors. Overall, Notre Passion is a perfect choice for those looking for a fruity and flavorful beer experience.\n",
      "\n",
      "beer: Brussels Fruit Beer 'Peaches'\n",
      "description: Brussels Fruit Beer \"Peaches\" is a refreshing and fruity beer that combines the traditional Belgian brewing techniques with the addition of ripe peaches. This beer is classified as a fruit beer and is known for its sweet and juicy peach flavor that is balanced with a subtle tartness. The aroma is filled with notes of fresh peaches, while the taste offers a delicate sweetness with a hint of acidity. The beer has a medium body and a smooth mouthfeel, making it a perfect choice for those who enjoy fruit-infused beverages.\n",
      "==================================\u001b[1m Ai Message \u001b[0m==================================\n",
      "\n",
      "Based on your preference for a beer with a fruity taste, I would recommend the following beers from the list:\n",
      "\n",
      "1. Belgian Pêches: This beer is brewed with ripe peaches, offering a sweet and juicy peach flavor balanced with a subtle tartness. It has a light to medium body with a smooth mouthfeel, perfect for those who enjoy fruity and easy-drinking beers.\n",
      "\n",
      "2. Notre Passion: Brewed with passion fruit, this beer offers a refreshing and tropical delight with a vibrant and tangy flavor profile. The passion fruit adds a juicy sweetness that complements the beer's maltiness. It has a light to medium body with a moderate level of carbonation, making it easy to drink.\n",
      "\n",
      "3. Brussels Fruit Beer 'Peaches': Combining traditional Belgian brewing techniques with ripe peaches, this beer offers a sweet and juicy peach flavor with a subtle tartness. It has a medium body and a smooth mouthfeel, ideal for those who enjoy fruit-infused beverages.\n",
      "\n",
      "These beers are perfect choices for those looking for a fruity and flavorful beer experience. Enjoy!\n"
     ]
    }
   ],
   "source": [
    "search_prompt = \"I like a beer with a fruity taste. Can you recommend me some?\"\n",
    "\n",
    "scored_beers = get_context_vector_search(search_prompt)\n",
    "print(scored_beers)\n",
    "theprompt = generate_prompt_vector_search(search_prompt, scored_beers)\n",
    "llm(theprompt.to_messages()).pretty_print()"
   ]
  },
  {
   "cell_type": "code",
   "execution_count": 19,
   "id": "5b0eff76-ea0c-4493-9bb3-50ff2f450eff",
   "metadata": {},
   "outputs": [
    {
     "name": "stdout",
     "output_type": "stream",
     "text": [
      "Scored Beers: \n",
      "\n",
      "beer: Cornet\n",
      "description: Cornet is a Belgian strong ale that is brewed with a combination of pale malts, aromatic hops, and a special yeast strain. This beer has a rich golden color and a creamy white head. It offers a complex flavor profile with notes of caramel, honey, and a subtle spiciness. The taste is balanced between sweet malts and a gentle bitterness, with a smooth and slightly dry finish. Cornet has a medium body and a moderate level of carbonation, making it a well-rounded and enjoyable beer for those who appreciate traditional Belgian ales.\n",
      "\n",
      "beer: Ginder Ale\n",
      "description: Ginder Ale is a Belgian-style ale brewed with a blend of pale malts, giving it a golden hue and a medium body. This beer is characterized by its spicy and fruity yeast profile, which adds complexity to its flavor profile. It has a slightly sweet malt backbone with notes of citrus, coriander, and a hint of pepper. Ginder Ale has a moderate bitterness and a dry finish, making it a refreshing and easy-drinking beer. It pairs well with a variety of dishes, from grilled meats to salads, making it a versatile choice for any occasion.\n",
      "\n",
      "beer: Hougaerdse Das\n",
      "description: Hougaerdse Das is a Belgian-style wheat beer brewed with a blend of barley malt, wheat, and oats. This beer is unfiltered, giving it a hazy appearance, and is typically spiced with coriander and orange peel, adding a refreshing citrusy and slightly spicy flavor profile. It has a smooth and creamy mouthfeel with a moderate level of carbonation. The beer is known for its light to medium body and a slightly sweet finish. Hougaerdse Das is a perfect choice for those looking for a flavorful and easy-drinking beer with a hint of Belgian tradition.\n",
      "\n",
      "beer: Agrumbocq\n",
      "description: Agrumbocq is a refreshing and zesty Belgian-style beer that combines the traditional characteristics of a witbier with the vibrant flavors of citrus fruits. Brewed with a blend of wheat and barley malts, this beer is infused with a generous amount of coriander and orange peel during the brewing process, giving it a spicy and fruity aroma. The addition of fresh grapefruit and lemon zest further enhances the citrus profile, creating a bright and tangy flavor profile. Agrumbocq has a hazy golden appearance with a fluffy white head, and a medium body with a crisp and effervescent mouthfeel. This beer is perfect for those who enjoy a harmonious balance of citrus, spice, and wheat in their brews.\n",
      "\n",
      "beer: Keikop Weizen\n",
      "description: Keikop Weizen is a traditional Belgian-style wheat beer brewed with a blend of malted barley and wheat. This unfiltered beer pours a hazy golden color with a fluffy white head. It is characterized by its fruity and spicy aroma, with hints of banana, clove, and citrus. The flavor profile is refreshing and balanced, with notes of wheat, yeast, and a subtle sweetness. The mouthfeel is smooth and creamy, with a moderate carbonation that enhances the overall drinking experience. Keikop Weizen is a perfect choice for those looking for a classic and easy-drinking wheat beer with a touch of Belgian flair.\n",
      "==================================\u001b[1m Ai Message \u001b[0m==================================\n",
      "\n",
      "Based on your dislike for beers with coriander, I would recommend trying the Cornet Belgian strong ale. This beer does not contain coriander in its ingredients and offers a complex flavor profile with notes of caramel, honey, and a subtle spiciness. It has a balanced taste between sweet malts and gentle bitterness, with a smooth and slightly dry finish. Cornet is a well-rounded and enjoyable beer for those who appreciate traditional Belgian ales without the presence of coriander.\n"
     ]
    }
   ],
   "source": [
    "search_prompt = \"Okay I really hate beers with coriander. Can you recommend me some that doesn't taste like coriander?\"\n",
    "\n",
    "scored_beers = get_context_vector_search(search_prompt)\n",
    "print(scored_beers)\n",
    "theprompt = generate_prompt_vector_search(search_prompt, scored_beers)\n",
    "llm(theprompt.to_messages()).pretty_print()"
   ]
  },
  {
   "cell_type": "code",
   "execution_count": 20,
   "id": "37934599-e6ea-4773-b584-5820a4ac0850",
   "metadata": {},
   "outputs": [
    {
     "name": "stdout",
     "output_type": "stream",
     "text": [
      "Scored Beers: \n",
      "\n",
      "beer: Ginder Ale\n",
      "description: Ginder Ale is a Belgian-style ale brewed with a blend of pale malts, giving it a golden hue and a medium body. This beer is characterized by its spicy and fruity yeast profile, which adds complexity to its flavor profile. It has a slightly sweet malt backbone with notes of citrus, coriander, and a hint of pepper. Ginder Ale has a moderate bitterness and a dry finish, making it a refreshing and easy-drinking beer. It pairs well with a variety of dishes, from grilled meats to salads, making it a versatile choice for any occasion.\n",
      "\n",
      "beer: Triverius\n",
      "description: Triverius is a Belgian Tripel-style beer brewed with a blend of Pilsner malt, aromatic malt, and Belgian candi sugar. This strong ale is characterized by its golden hue, robust body, and high carbonation. It boasts a complex flavor profile with notes of fruity esters, spicy phenols, and a subtle sweetness from the candi sugar. The beer has a moderate bitterness that balances out the malt sweetness, leading to a dry finish. Triverius is a well-rounded and flavorful beer that is perfect for those who enjoy traditional Belgian ales.\n",
      "\n",
      "beer: Couckelaerschen Doedel\n",
      "description: Couckelaerschen Doedel is a traditional Belgian Tripel-style beer brewed with a blend of Pilsner malt, aromatic malt, and Belgian candi sugar. This strong ale is characterized by its golden hue, robust body, and high carbonation. It boasts a complex flavor profile with notes of fruity esters, spicy phenols, and a subtle sweetness from the candi sugar. The beer has a moderate bitterness that balances out the malt sweetness, leading to a dry finish. Couckelaerschen Doedel is a well-rounded beer with a medium to full body and a smooth mouthfeel, making it a delightful choice for those who appreciate classic Belgian ales.\n",
      "\n",
      "beer: Kapittel Tripel Abt\n",
      "description: Kapittel Tripel Abt is a Belgian Tripel style beer brewed with a blend of Pilsner malt, wheat, and aromatic hops. This beer is characterized by its golden hue, rich malt sweetness, and complex fruity esters. It has a moderate bitterness that balances out the sweetness, with a noticeable alcohol warmth from its higher ABV. The flavor profile includes notes of ripe fruits like banana and pear, along with spicy phenols and a hint of clove. The mouthfeel is effervescent and creamy, with a dry finish that leaves a lingering warmth on the palate. Overall, Kapittel Tripel Abt is a well-balanced and flavorful beer that showcases the traditional Belgian brewing techniques.\n",
      "\n",
      "beer: Kessel 69\n",
      "description: Kessel 69 is a Belgian Tripel-style beer brewed with a blend of Pilsner malt, aromatic malt, and Belgian candi sugar. This strong ale is characterized by its golden hue, robust body, and high carbonation. It boasts a complex flavor profile with notes of fruity esters, spicy phenols, and a subtle sweetness from the candi sugar. The beer has a moderate bitterness that balances out the malt sweetness, leading to a dry finish. Kessel 69 is a well-rounded and flavorful beer that is best enjoyed slowly to savor its intricate layers of taste.\n",
      "\n",
      "beer: Beersel Blond\n",
      "description: Beersel Blond is a traditional Belgian-style blond ale brewed by Geuzestekerij 3 Fonteinen. This beer is crafted with a blend of Pilsner malt, wheat, and aromatic hops, resulting in a light and refreshing beer with a golden hue. Beersel Blond has a balanced flavor profile with notes of citrus, floral hops, and a subtle spiciness from the Belgian yeast strain. It has a moderate bitterness and a dry finish, making it a perfect choice for those who enjoy a crisp and easy-drinking beer.\n",
      "\n",
      "beer: Hoftrol\n",
      "description: Hoftrol is a Belgian-style Tripel beer brewed with a blend of Pilsner malt, wheat, and aromatic hops. This beer is characterized by its golden color, medium body, and high carbonation. Hoftrol offers a complex flavor profile with notes of fruity esters, spicy phenols, and a subtle sweetness from the malt. The taste is balanced with a moderate bitterness and a dry finish. Overall, Hoftrol is a refreshing and flavorful beer that is perfect for those who enjoy traditional Belgian Tripels.\n",
      "\n",
      "beer: Slaapmutske Tripel\n",
      "description: Slaapmutske Tripel is a Belgian-style tripel ale brewed with a blend of Pilsner malt, wheat, and aromatic hops. This beer is characterized by its golden color, high carbonation, and a creamy white head. It offers a complex flavor profile with notes of fruity esters, spicy phenols, and a subtle sweetness from the malt. The taste is balanced with a moderate bitterness and a dry finish. Slaapmutske Tripel has a medium body and a smooth mouthfeel, making it a delightful and refreshing choice for those who enjoy traditional Belgian tripels.\n",
      "\n",
      "beer: Den Tseut\n",
      "description: Den Tseut is a Belgian-style Tripel beer brewed with a blend of Pilsner malt, wheat, and aromatic hops. This beer is characterized by its golden hue and a fluffy white head. It has a complex flavor profile with notes of fruity esters, spicy phenols, and a subtle sweetness from the malt. The taste is balanced with a moderate bitterness and a dry finish. Den Tseut has a medium body and a high carbonation level, which enhances its refreshing and effervescent qualities. Overall, this beer offers a harmonious blend of flavors that make it a delightful choice for those who appreciate traditional Belgian ales.\n",
      "\n",
      "beer: Halleschelle\n",
      "description: Halleschelle is a Belgian-style Tripel beer brewed with a blend of Pilsner malt, wheat, and aromatic hops. This beer is characterized by its golden color, medium body, and high carbonation. It offers a complex flavor profile with notes of fruity esters, spicy phenols, and a subtle sweetness from the malt. The taste is balanced with a moderate bitterness and a dry finish. Halleschelle has a slightly higher alcohol content, typically around 8-9% ABV, making it a strong and flavorful beer that is best enjoyed slowly to savor its intricate flavors.\n",
      "\n",
      "beer: Koekelaring\n",
      "description: Koekelaring is a Belgian-style Tripel beer brewed with a blend of Pilsner malt, wheat, and aromatic hops. This beer is characterized by its golden color, medium body, and high carbonation. It offers a complex flavor profile with notes of fruity esters, spicy phenols, and a subtle sweetness from the malt. The taste is balanced with a moderate bitterness and a dry finish. Koekelaring has a slightly higher alcohol content, typically around 8-9% ABV, making it a strong and flavorful beer that is best enjoyed slowly to savor its intricate layers of taste.\n",
      "\n",
      "beer: Kerkomse Tripel\n",
      "description: Kerkomse Tripel is a Belgian Tripel style beer brewed with a blend of Pilsner malt, aromatic malt, and Belgian candi sugar. This beer is characterized by its golden color, high carbonation, and a creamy white head. It has a complex flavor profile with notes of fruity esters, spicy phenols, and a subtle sweetness from the malt and candi sugar. The aroma is a mix of floral hops, fruity yeast, and a hint of alcohol. Kerkomse Tripel has a medium body and a dry finish, making it a well-balanced and refreshing beer with a moderate bitterness.\n",
      "\n",
      "beer: St. Benoit Brune\n",
      "description: St. Benoit Brune is a Belgian Dubbel style beer brewed with a blend of malts including Pilsner, Munich, and caramel malts. This dark ale features a rich and complex flavor profile with notes of dark fruits, caramel, and toffee. The use of Belgian yeast adds spicy and fruity undertones, while the moderate bitterness balances out the sweetness. St. Benoit Brune has a medium body and a smooth mouthfeel, making it a delightful beer to savor on a cool evening.\n",
      "\n",
      "beer: La Mac Vertus\n",
      "description: La Mac Vertus is a Belgian-style Tripel beer brewed with a blend of Pilsner malt, wheat, and aromatic hops. This beer is characterized by its golden hue, medium body, and high carbonation. It offers a complex flavor profile with notes of fruity esters, spicy phenols, and a subtle sweetness from the malt. The taste is balanced with a moderate bitterness and a dry finish. La Mac Vertus has a slightly higher alcohol content, typically around 8-9% ABV, making it a strong and flavorful brew that is best enjoyed slowly to savor its intricate layers of taste.\n",
      "\n",
      "beer: Bella Mère\n",
      "description: Bella Mère is a Belgian-style Saison beer brewed with a blend of Pilsner malt, wheat, and oats. This beer is characterized by its fruity and spicy yeast esters, which give it a complex aroma with notes of citrus, pepper, and clove. The flavor profile of Bella Mère is refreshing and balanced, with a moderate bitterness and a dry finish. This beer has a medium body and a lively carbonation, making it a perfect choice for those looking for a flavorful and easy-drinking brew.\n",
      "\n",
      "beer: Kasteel Hoppy\n",
      "description: Kasteel Hoppy is a Belgian IPA that combines traditional Belgian brewing techniques with a modern hop-forward approach. This beer is brewed with a blend of pale malts and a variety of aromatic hops, resulting in a golden-hued beer with a rich, malty backbone and a pronounced hop character. Expect flavors of citrus, tropical fruits, and floral notes, balanced by a subtle sweetness from the malt. The beer has a medium body and a moderate bitterness, making it a well-rounded and refreshing choice for those who enjoy a hoppy beer with a Belgian twist.\n",
      "\n",
      "beer: Waas Klok Bier Tripel\n",
      "description: Waas Klok Bier Tripel is a Belgian Tripel style beer brewed with a blend of Pilsner malt, aromatic malt, and sugar. This beer is characterized by its golden color, high carbonation, and a creamy white head. It offers a complex flavor profile with notes of fruity esters, spicy phenols, and a subtle sweetness from the malt and sugar. The taste is balanced with a moderate bitterness and a dry finish. Waas Klok Bier Tripel has a medium body and a smooth mouthfeel, making it a delightful and refreshing choice for those who appreciate traditional Belgian ales.\n",
      "\n",
      "beer: Gauloise Red\n",
      "description: Gauloise Red is a Belgian Strong Ale that boasts a rich and complex flavor profile. This beer is brewed with a blend of malts, including pale malt and caramel malt, which contribute to its deep amber color and sweet caramel notes. The addition of Belgian yeast imparts fruity esters and spicy phenols, adding layers of complexity to the beer. Gauloise Red has a moderate bitterness that balances out its malty sweetness, with hints of dark fruits and a subtle alcohol warmth. This beer has a medium body and a smooth mouthfeel, making it a delightful sipper to enjoy on a cool evening.\n",
      "\n",
      "beer: Marckloff\n",
      "description: Marckloff is a Belgian-style Tripel beer brewed with a blend of Pilsner malt, wheat, and aromatic hops. This beer is characterized by its golden hue, medium body, and high carbonation. It offers a complex flavor profile with notes of fruity esters, spicy phenols, and a subtle sweetness from the malt. The taste is balanced with a moderate bitterness and a dry finish. Marckloff is a strong ale with an ABV typically ranging from 8% to 10%. It is best enjoyed in a chalice or tulip glass to fully appreciate its aroma and flavors.\n",
      "\n",
      "beer: Boembeke Luiwerk Blond\n",
      "description: Boembeke Luiwerk Blond is a Belgian-style blonde ale brewed with a blend of Pilsner malt, wheat, and aromatic hops. This beer is characterized by its golden hue, medium body, and a smooth, creamy mouthfeel. It offers a balanced flavor profile with notes of citrus, floral hops, and a hint of spice. The beer has a moderate bitterness that complements its malty sweetness, resulting in a refreshing and easy-drinking experience. Boembeke Luiwerk Blond is a versatile beer that pairs well with a variety of dishes, making it a popular choice among beer enthusiasts.\n",
      "==================================\u001b[1m Ai Message \u001b[0m==================================\n",
      "\n",
      "Based on your dislike for beers with coriander, I would recommend the following beers from the list:\n",
      "\n",
      "1. St. Benoit Brune: This Belgian Dubbel style beer features rich and complex flavors of dark fruits, caramel, and toffee without the presence of coriander. The use of Belgian yeast adds spicy and fruity undertones, providing a delightful sipping experience.\n",
      "\n",
      "2. Bella Mère: A Belgian-style Saison with fruity and spicy yeast esters, notes of citrus, pepper, and clove, offering a refreshing and balanced flavor profile without coriander.\n",
      "\n",
      "3. Kasteel Hoppy: A Belgian IPA with a modern hop-forward approach, combining traditional Belgian brewing techniques with flavors of citrus, tropical fruits, and floral notes, providing a hoppy experience without coriander.\n",
      "\n",
      "These beers should suit your preference for beers without coriander while still offering a range of flavors to enjoy.\n"
     ]
    }
   ],
   "source": [
    "search_prompt = \"Okay I really hate beers with coriander. Can you recommend me some that doesn't taste like coriander?\"\n",
    "\n",
    "scored_beers = get_context_graphrag(search_prompt)\n",
    "print(scored_beers)\n",
    "theprompt = generate_prompt_graphrag(search_prompt, scored_beers)\n",
    "llm(theprompt.to_messages()).pretty_print()"
   ]
  },
  {
   "cell_type": "code",
   "execution_count": 21,
   "id": "c279f0be-b17f-4d9b-8118-c546f4f1772a",
   "metadata": {},
   "outputs": [
    {
     "name": "stderr",
     "output_type": "stream",
     "text": [
      "/Users/erikbijl/anaconda3/lib/python3.11/site-packages/gradio/components/chatbot.py:223: UserWarning: You have not specified a value for the `type` parameter. Defaulting to the 'tuples' format for chatbot messages, but this is deprecated and will be removed in a future version of Gradio. Please set type='messages' instead, which uses openai-style 'role' and 'content' keys.\n",
      "  warnings.warn(\n"
     ]
    },
    {
     "name": "stdout",
     "output_type": "stream",
     "text": [
      "* Running on local URL:  http://127.0.0.1:7860\n",
      "\n",
      "To create a public link, set `share=True` in `launch()`.\n"
     ]
    },
    {
     "data": {
      "text/html": [
       "<div><iframe src=\"http://127.0.0.1:7860/\" width=\"100%\" height=\"500\" allow=\"autoplay; camera; microphone; clipboard-read; clipboard-write;\" frameborder=\"0\" allowfullscreen></iframe></div>"
      ],
      "text/plain": [
       "<IPython.core.display.HTML object>"
      ]
     },
     "metadata": {},
     "output_type": "display_data"
    },
    {
     "data": {
      "text/plain": []
     },
     "execution_count": 21,
     "metadata": {},
     "output_type": "execute_result"
    }
   ],
   "source": [
    "def user(user_message, history):\n",
    "    return \"\", history + [[user_message, None]]\n",
    "\n",
    "def get_answer(search_prompt, rag_method):\n",
    "    if rag_method == \"Vector-Search\":\n",
    "        scored_beers = get_context_vector_search(search_prompt)\n",
    "        theprompt = generate_prompt_vector_search(search_prompt, scored_beers)\n",
    "    else: \n",
    "    # rag_method == \"GraphRAG\"\n",
    "        scored_beers = get_context_graphrag(search_prompt)\n",
    "        theprompt = generate_prompt_graphrag(search_prompt, scored_beers)\n",
    "    messages = llm(theprompt.to_messages())\n",
    "    return messages.content\n",
    "\n",
    "def bot(history, rag_method):\n",
    "    bot_message = get_answer(history[-1][0], rag_method)\n",
    "    history[-1][1] = \"\"\n",
    "    for character in bot_message:\n",
    "        history[-1][1] += character\n",
    "        time.sleep(0.01)\n",
    "        yield history\n",
    "\n",
    "with gr.Blocks() as demo:\n",
    "    chatbot = gr.Chatbot(\n",
    "        label=\"Chatbot with RAG\", \n",
    "        avatar_images=[\"https://png.pngtree.com/png-vector/20220525/ourmid/pngtree-concept-of-facial-animal-avatar-chatbot-dog-chat-machine-illustration-vector-png-image_46652864.jpg\",\"https://d-cb.jc-cdn.com/sites/crackberry.com/files/styles/larger/public/article_images/2023/08/openai-logo.jpg\"]\n",
    "    )\n",
    "    msg = gr.Textbox(label=\"Message\")\n",
    "    rag_method = gr.Radio([\"Vector-Search\", \"GraphRAG\"], label=\"RAG-method:\")\n",
    "    clear = gr.Button(\"Clear\")\n",
    "\n",
    "\n",
    "    msg.submit(user, [msg, chatbot], [msg, chatbot], queue=False).then(\n",
    "        bot, [chatbot, rag_method], chatbot\n",
    "    )\n",
    "    \n",
    "    clear.click(lambda: None, None, chatbot, queue=False)\n",
    "\n",
    "    \n",
    "demo.queue()\n",
    "demo.launch(share=False)"
   ]
  },
  {
   "cell_type": "code",
   "execution_count": null,
   "id": "ede777c5-3d4c-4b1c-b6b8-af10f66290af",
   "metadata": {},
   "outputs": [],
   "source": []
  },
  {
   "cell_type": "code",
   "execution_count": null,
   "id": "0c172350-11d8-4bed-b724-1c9245c040b1",
   "metadata": {},
   "outputs": [],
   "source": []
  },
  {
   "cell_type": "code",
   "execution_count": null,
   "id": "70d23205-08ae-478f-b154-e95ff417cd84",
   "metadata": {},
   "outputs": [],
   "source": []
  },
  {
   "cell_type": "code",
   "execution_count": null,
   "id": "71faa641-15e3-42d7-9c87-3d7f6d96a084",
   "metadata": {},
   "outputs": [],
   "source": []
  },
  {
   "cell_type": "code",
   "execution_count": null,
   "id": "efe93221-dfb4-48fb-a81f-077377b2fff5",
   "metadata": {},
   "outputs": [],
   "source": []
  }
 ],
 "metadata": {
  "kernelspec": {
   "display_name": "Python 3 (ipykernel)",
   "language": "python",
   "name": "python3"
  },
  "language_info": {
   "codemirror_mode": {
    "name": "ipython",
    "version": 3
   },
   "file_extension": ".py",
   "mimetype": "text/x-python",
   "name": "python",
   "nbconvert_exporter": "python",
   "pygments_lexer": "ipython3",
   "version": "3.11.5"
  }
 },
 "nbformat": 4,
 "nbformat_minor": 5
}
